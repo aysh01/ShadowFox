{
  "nbformat": 4,
  "nbformat_minor": 0,
  "metadata": {
    "colab": {
      "provenance": []
    },
    "kernelspec": {
      "name": "python3",
      "display_name": "Python 3"
    },
    "language_info": {
      "name": "python"
    }
  },
  "cells": [
    {
      "cell_type": "markdown",
      "source": [
        "<h1>Variables</h1>"
      ],
      "metadata": {
        "id": "ICPv9hI1860L"
      }
    },
    {
      "cell_type": "markdown",
      "source": [
        "<h4>1 Create a variable named pi and store the value 22/7 in it. Now check the data type of this variable.</h4>"
      ],
      "metadata": {
        "id": "RmnRbafF9L0c"
      }
    },
    {
      "cell_type": "code",
      "execution_count": null,
      "metadata": {
        "colab": {
          "base_uri": "https://localhost:8080/"
        },
        "id": "d0t2o7U08Wzw",
        "outputId": "2c2c9b2c-e3a6-4d34-9abb-d6097bb3378d"
      },
      "outputs": [
        {
          "output_type": "stream",
          "name": "stdout",
          "text": [
            "DataType <class 'float'>\n"
          ]
        }
      ],
      "source": [
        "pi=22/7\n",
        "print(f\"DataType {type(pi)}\")"
      ]
    },
    {
      "cell_type": "markdown",
      "source": [
        "<hr>"
      ],
      "metadata": {
        "id": "yTZLNqBZ98Oc"
      }
    },
    {
      "cell_type": "markdown",
      "source": [
        "<h4>2 Create a variable called for and assign it a value 4. See what happens and find out the reason behind the behavior that you see.</h4>"
      ],
      "metadata": {
        "id": "x_C3F-Xq9nCX"
      }
    },
    {
      "cell_type": "code",
      "source": [
        "def display(a):\n",
        "    called_for = a\n",
        "    print(called_for,f\"{type(called_for)}\")\n",
        "\n",
        "display(4)"
      ],
      "metadata": {
        "colab": {
          "base_uri": "https://localhost:8080/"
        },
        "id": "_ucxwts78vLT",
        "outputId": "164ab421-3ce0-44c2-f1c8-3608fc36d0d6"
      },
      "execution_count": null,
      "outputs": [
        {
          "output_type": "stream",
          "name": "stdout",
          "text": [
            "4 <class 'int'>\n"
          ]
        }
      ]
    },
    {
      "cell_type": "markdown",
      "source": [
        "<h1>Reason</h1>"
      ],
      "metadata": {
        "id": "JJuLQPKK-Les"
      }
    },
    {
      "cell_type": "markdown",
      "source": [
        "<h4>In, python we can't declare variable and assign it the value later. Because, in python the variable types are checked during the compilation of a prog.. Python is dynamically typed lang</h4>"
      ],
      "metadata": {
        "id": "JWQ632Hw-gmj"
      }
    },
    {
      "cell_type": "markdown",
      "source": [
        "<hr>"
      ],
      "metadata": {
        "id": "wZ9o9Szg-6mg"
      }
    },
    {
      "cell_type": "markdown",
      "source": [
        "<h4>3. Store the principal amount, rate of interest, and time in\n",
        "different variables and then calculate the Simple Interest for 3\n",
        "years. Formula: Simple Interest = P x R x T / 100</h4>"
      ],
      "metadata": {
        "id": "LVuiBGFP--dz"
      }
    },
    {
      "cell_type": "code",
      "source": [
        "p_amt = 0\n",
        "r_interest = 0\n",
        "time = 3\n",
        "\n",
        "def formula(p,r):\n",
        "    p=float(input(\"Enter Principal Amount\\n\"))\n",
        "    r=float(input(\"Enter Rate of Interest\\n\"))\n",
        "\n",
        "    main=p*r*time/100\n",
        "    print(f\"Simple Interest for {time} years {main}\")\n",
        "\n",
        "formula(p_amt,r_interest)"
      ],
      "metadata": {
        "colab": {
          "base_uri": "https://localhost:8080/"
        },
        "id": "UbPxuPbfFfUc",
        "outputId": "5a2a6e50-5438-4957-8b98-9f27e450c618"
      },
      "execution_count": null,
      "outputs": [
        {
          "output_type": "stream",
          "name": "stdout",
          "text": [
            "Enter Principal Amount\n",
            "5000\n",
            "Enter Rate of Interest\n",
            "5\n",
            "Simple Interest for 3 years 750.0\n"
          ]
        }
      ]
    },
    {
      "cell_type": "markdown",
      "source": [
        "<hr>\n",
        "<hr>"
      ],
      "metadata": {
        "id": "PVCPN6KHavs8"
      }
    },
    {
      "cell_type": "markdown",
      "source": [
        "<h1>List</h1>"
      ],
      "metadata": {
        "id": "yWQgs1S2a1mx"
      }
    },
    {
      "cell_type": "markdown",
      "source": [
        "<h4>1. You have a list of superheroes representing the Justice\n",
        "League. justice_league = [\"Superman\"\n",
        ",\"Batman\"\n",
        ",\"Wonder Woman\",\"Flash\",\"Aquaman\",\n",
        "\"Green Lantern\"]"
      ],
      "metadata": {
        "id": "Ynk4RHfha6jd"
      }
    },
    {
      "cell_type": "code",
      "source": [
        "import random\n",
        "justice_league = [\"Superman\",\"Batman\",\"Wonder Woman\",\"Flash\",\"Aquaman\",\"Green Lantern\"]"
      ],
      "metadata": {
        "id": "e14fyfZNbmfO"
      },
      "execution_count": null,
      "outputs": []
    },
    {
      "cell_type": "markdown",
      "source": [
        "<hr>"
      ],
      "metadata": {
        "id": "xtHnL-KB6O48"
      }
    },
    {
      "cell_type": "markdown",
      "source": [
        "<h3>Performing the following task:"
      ],
      "metadata": {
        "id": "15gU-L3CbO_Q"
      }
    },
    {
      "cell_type": "markdown",
      "source": [
        "<h4>1. Calculate the number of members in the Justice League.</h4>"
      ],
      "metadata": {
        "id": "s4bTKSSjbYy1"
      }
    },
    {
      "cell_type": "code",
      "source": [
        "print(f\"Number of Members in Justice League {len(justice_league)}\")"
      ],
      "metadata": {
        "colab": {
          "base_uri": "https://localhost:8080/"
        },
        "id": "M8qaI_DXbgRV",
        "outputId": "81487c97-3cea-45fa-9644-ef5b6d5cff3f"
      },
      "execution_count": null,
      "outputs": [
        {
          "output_type": "stream",
          "name": "stdout",
          "text": [
            "Number of Members in Justice League 6\n"
          ]
        }
      ]
    },
    {
      "cell_type": "markdown",
      "source": [
        "<hr>"
      ],
      "metadata": {
        "id": "N6vAV3lA6R-6"
      }
    },
    {
      "cell_type": "markdown",
      "source": [
        "<h4>2. Batman recruited Batgirl and Nightwing as new members.\n",
        "Add them to your list.</h4>"
      ],
      "metadata": {
        "id": "HxFNiVksb6tt"
      }
    },
    {
      "cell_type": "code",
      "source": [
        "new=[\"Batgirl\",\"Nightwing\"]\n",
        "justice_league.append(new)\n",
        "print(f\"New Recruited Members added\\n {justice_league[-1:]}\")"
      ],
      "metadata": {
        "colab": {
          "base_uri": "https://localhost:8080/"
        },
        "id": "1OdbMvFKcDJu",
        "outputId": "b1549be4-7be6-4dc9-a479-2e37532dbc76"
      },
      "execution_count": null,
      "outputs": [
        {
          "output_type": "stream",
          "name": "stdout",
          "text": [
            "New Recruited Members added\n",
            " [['Batgirl', 'Nightwing']]\n"
          ]
        }
      ]
    },
    {
      "cell_type": "markdown",
      "source": [
        "<hr>"
      ],
      "metadata": {
        "id": "a3-NUX0M6VEe"
      }
    },
    {
      "cell_type": "markdown",
      "source": [
        "<h4>3. Wonder Woman is now the leader of the Justice League.\n",
        "Move her to the beginning of the list.</h4>"
      ],
      "metadata": {
        "id": "dp9l_gefcJmM"
      }
    },
    {
      "cell_type": "code",
      "source": [
        "justice_league.remove(\"Wonder Woman\")\n",
        "justice_league.insert(0,\"Wonder Woman\")\n",
        "print(\"Wonder Woman is now the leader of the Justice League\")\n",
        "print(f\"Wonder Woman at the beginning of the list\\n{justice_league}\")"
      ],
      "metadata": {
        "id": "gPRK7ynxcQfV"
      },
      "execution_count": null,
      "outputs": []
    },
    {
      "cell_type": "markdown",
      "source": [
        "<hr>"
      ],
      "metadata": {
        "id": "tXvBZCj86XTB"
      }
    },
    {
      "cell_type": "markdown",
      "source": [
        "<h4>4. Aquaman and Flash are having conflicts, and you need to\n",
        "separate them. Choose either \"Green Lantern\" or \"Superman\"\n",
        "and move them in between Aquaman and Flash.</h4>"
      ],
      "metadata": {
        "id": "uhR030Ijce7n"
      }
    },
    {
      "cell_type": "code",
      "source": [
        "separate_team = []\n",
        "fav=[\"Superman\",\"Green Lantern\"]\n",
        "a=random.choice(fav)\n",
        "separate_team.append(a)\n",
        "\n",
        "for i in justice_league:\n",
        "    if i == \"Flash\" or i == \"Aquaman\" in justice_league:\n",
        "        separate_team.append(i)\n",
        "print(f\"Conflict between Flash and Aquaman\\nSo they are seperated\\n{separate_team}\")"
      ],
      "metadata": {
        "colab": {
          "base_uri": "https://localhost:8080/"
        },
        "id": "R1gUS8aZchrG",
        "outputId": "8ad35e54-af70-4e5f-95d2-1d52dbd331c2"
      },
      "execution_count": null,
      "outputs": [
        {
          "output_type": "stream",
          "name": "stdout",
          "text": [
            "Conflict between Flash and Aquaman\n",
            "So they are seperated\n",
            "['Green Lantern', 'Flash', 'Aquaman']\n"
          ]
        }
      ]
    },
    {
      "cell_type": "markdown",
      "source": [
        "<hr>"
      ],
      "metadata": {
        "id": "FdbP2CN-6ZwR"
      }
    },
    {
      "cell_type": "markdown",
      "source": [
        "<h4>5. The Justice League faced a crisis, and Superman decided to\n",
        "assemble a new team.</h4>"
      ],
      "metadata": {
        "id": "5RwZuc19c6sD"
      }
    },
    {
      "cell_type": "markdown",
      "source": [
        "<h3>Replace the existing list with the following\n",
        " new members: [\"Cyborg\",\"Shazam\",\"Hawkgirl\",\n",
        "\"Martian Manhunter\",\"Green Arrow\"]"
      ],
      "metadata": {
        "id": "AcOXz1KwdEeN"
      }
    },
    {
      "cell_type": "code",
      "source": [
        "print(\"=====Justice League Faced Crisis=====\")\n",
        "print(\"=====Superman decides to assemble a new team=====\")\n",
        "\n",
        "fresh_team=[\"Cyborg\",\"Shazam\",\n",
        "\"Hawkgirl\",\"Martian Manhunter\",\n",
        "\"Green Arrow\"]\n",
        "justice_league = fresh_team\n",
        "print(f\"New Members in Justice League\\n{justice_league}\")"
      ],
      "metadata": {
        "colab": {
          "base_uri": "https://localhost:8080/"
        },
        "id": "7OlWCoaBdXrf",
        "outputId": "0498f928-08c7-48bc-f0ff-9a2d71687848"
      },
      "execution_count": null,
      "outputs": [
        {
          "output_type": "stream",
          "name": "stdout",
          "text": [
            "=====Justice League Faced Crisis=====\n",
            "=====Superman decides to assemble a new team=====\n",
            "New Members in Justice League\n",
            "['Cyborg', 'Shazam', 'Hawkgirl', 'Martian Manhunter', 'Green Arrow']\n"
          ]
        }
      ]
    },
    {
      "cell_type": "markdown",
      "source": [
        "<hr>"
      ],
      "metadata": {
        "id": "0b5eaSxk6cBX"
      }
    },
    {
      "cell_type": "markdown",
      "source": [
        "<h4>6. Sort the Justice League alphabetically. The hero at the 0th\n",
        "index will become the new leader.</h4>"
      ],
      "metadata": {
        "id": "cJbzv_7MdrbX"
      }
    },
    {
      "cell_type": "markdown",
      "source": [
        "<h3>(BONUS: Can you predict who the new leader will be?)\n",
        "Your task is to write Python code to perform these operations</h3>"
      ],
      "metadata": {
        "id": "gV-nKFYRdu5o"
      }
    },
    {
      "cell_type": "code",
      "source": [
        "print(\"=====Sorting Justice League=====\")\n",
        "justice_league.sort()\n",
        "print(justice_league)\n",
        "print(f\"Prediction.? New Leader Will be {justice_league[0]}\")"
      ],
      "metadata": {
        "id": "g2rHhm1Ed0WV"
      },
      "execution_count": null,
      "outputs": []
    },
    {
      "cell_type": "markdown",
      "source": [
        "<hr>\n",
        "<hr>"
      ],
      "metadata": {
        "id": "FxKxnV_oeBco"
      }
    },
    {
      "cell_type": "markdown",
      "source": [
        "<h1>If condition</h1>"
      ],
      "metadata": {
        "id": "OSA5jzLZeEYj"
      }
    },
    {
      "cell_type": "markdown",
      "source": [
        "<h4>1. Write a program to determine the BMI Category based on user input.</h4>"
      ],
      "metadata": {
        "id": "GZCGkMnv5f6E"
      }
    },
    {
      "cell_type": "markdown",
      "source": [
        "<h3>Ask the user to:\n",
        "Enter height in meters\n",
        "Enter weight in kilograms\n",
        "Calculate BMI using the formula: BMI = weight / (height)2\n",
        "Use the following categories:\n",
        "If BMI is 30 or greater, print \"Obesity\"\n",
        "If BMI is between 25 and 29, print \"Overweight\"\n",
        "If BMI is between 18.5 and 25, print \"Normal\"\n",
        "If BMI is less than 18.5, print \"Underweight\"</h3>"
      ],
      "metadata": {
        "id": "MoF_bNnw5p89"
      }
    },
    {
      "cell_type": "code",
      "source": [
        "height=0\n",
        "weight=0\n",
        "\n",
        "def bmi(h,w):\n",
        "    h=float(input(\"Enter Height in meters\\n\"))\n",
        "    w=float(input(\"Enter Weight in Kg\\n\"))\n",
        "    bmi=w/(h**2)\n",
        "\n",
        "    if bmi >=30:\n",
        "        print(\"Obesity\")\n",
        "    elif 25 <= bmi <29:\n",
        "        print(\"Overweight\")\n",
        "    elif 18.5 <= bmi <25:\n",
        "        print(\"Normal\")\n",
        "    elif bmi <= 18.5:\n",
        "        print(\"Underweight\")\n",
        "\n",
        "bmi(height, weight)"
      ],
      "metadata": {
        "colab": {
          "base_uri": "https://localhost:8080/"
        },
        "id": "40vhYXAL53iQ",
        "outputId": "2939b176-bd0d-4668-d9d2-b42df5c93bf0"
      },
      "execution_count": null,
      "outputs": [
        {
          "output_type": "stream",
          "name": "stdout",
          "text": [
            "Enter Height in meters\n",
            "1.75\n",
            "Enter Weight in Kg\n",
            "70\n",
            "Normal\n"
          ]
        }
      ]
    },
    {
      "cell_type": "markdown",
      "source": [
        "<hr>"
      ],
      "metadata": {
        "id": "Zz-GGeQT6jXo"
      }
    },
    {
      "cell_type": "markdown",
      "source": [
        "<h4>2. Write a program to determine which country a city belongs to. Given\n",
        "list of cities per country:</h4>"
      ],
      "metadata": {
        "id": "IQQes1Yr6n08"
      }
    },
    {
      "cell_type": "code",
      "source": [
        "list_of_country ={\n",
        "\"Australia\" : [\"Sydney\",\n",
        "\"Melbourne\",\"Brisbane\",\"Perth\"],\n",
        "\"UAE\" : [\"Dubai\",\"Abu Dhabi\",\n",
        "\"Sharjah\",\"Ajman\"],\n",
        "\"India\" : [\"Mumbai\",\"Bangalore\",\n",
        "\"Chennai\",\"Delhi\"]}\n",
        "\n",
        "x=[]\n",
        "user=input(\"Enter City Name\\n\")\n",
        "for i,j in list_of_country.items():\n",
        "    if user in j:\n",
        "        x.append(i)\n",
        "\n",
        "for i in x:\n",
        "    print(f\"{user} is in {i}\")"
      ],
      "metadata": {
        "colab": {
          "base_uri": "https://localhost:8080/"
        },
        "id": "tdNelqsSyPgg",
        "outputId": "e561d865-ab84-4bc2-9f41-75dc6d80dd10"
      },
      "execution_count": null,
      "outputs": [
        {
          "output_type": "stream",
          "name": "stdout",
          "text": [
            "Enter City Name\n",
            "Sharjah\n",
            "Sharjah is in UAE\n"
          ]
        }
      ]
    },
    {
      "cell_type": "markdown",
      "source": [
        "<hr>"
      ],
      "metadata": {
        "id": "z0SG2AoPyfFi"
      }
    },
    {
      "cell_type": "markdown",
      "source": [
        "<h4>3. Write a program to check if two cities belong to the same country.\n",
        "Ask the user to enter two cities and print whether they belong to the\n",
        "same country or not.</h4>"
      ],
      "metadata": {
        "id": "3eUHMoDQyhfv"
      }
    },
    {
      "cell_type": "code",
      "source": [
        "list_of_country ={\n",
        "\"Australia\" : [\"Sydney\",\n",
        "\"Melbourne\",\"Brisbane\",\"Perth\"],\n",
        "\"UAE\" : [\"Dubai\",\"Abu Dhabi\",\n",
        "\"Sharjah\",\"Ajman\"],\n",
        "\"India\" : [\"Mumbai\",\"Bangalore\",\n",
        "\"Chennai\",\"Delhi\"]}\n",
        "\n",
        "x=[]\n",
        "y=[]\n",
        "user=input(\"Enter First City\\n\")\n",
        "user1=input(\"Enter Second City\\n\")\n",
        "y=[user,user1]\n",
        "\n",
        "for i,j in list_of_country.items():\n",
        "    for value in y:\n",
        "        if value in j:\n",
        "            x.append(i)\n",
        "            break\n",
        "\n",
        "if x[0]==x[-1]:\n",
        "    for i in x:\n",
        "        print(f\"{user},{user1} are in {i}\")\n",
        "else:\n",
        "    print(\"They don't belong to same country..\")"
      ],
      "metadata": {
        "colab": {
          "base_uri": "https://localhost:8080/"
        },
        "id": "ioJ9VIiey6O0",
        "outputId": "d792e507-0e65-4a23-e77a-5ed026db8270"
      },
      "execution_count": null,
      "outputs": [
        {
          "output_type": "stream",
          "name": "stdout",
          "text": [
            "Enter First City\n",
            "Sharjah\n",
            "Enter Second City\n",
            "Delhi\n",
            "They don't belong to same country..\n"
          ]
        }
      ]
    },
    {
      "cell_type": "markdown",
      "source": [
        "<hr>\n",
        "<hr>"
      ],
      "metadata": {
        "id": "WJ2eXUDa5LRm"
      }
    },
    {
      "cell_type": "markdown",
      "source": [
        "<h1>Dictionary</h1>"
      ],
      "metadata": {
        "id": "V1trJZoQ5NcA"
      }
    },
    {
      "cell_type": "markdown",
      "source": [
        "<h4>1. Create a list of your friends' names. The list should have at least 5 names.\n",
        "Create a list of tuples. Each tuple should contain a friend's name and the length\n",
        "of the name.</h4>"
      ],
      "metadata": {
        "id": "StxpyNt3FX60"
      }
    },
    {
      "cell_type": "code",
      "source": [
        "list_of_friends=[\"Aditya\",\"Abhi\",\"Warun\",\"Varun\",\"Suraj\"]\n",
        "print(f\"List of Friends {len(list_of_friends)}\")\n",
        "print(list_of_friends)\n",
        "\n",
        "list_of_tuples=[(list_of_friends)]\n",
        "x=[]\n",
        "for i in list_of_tuples:\n",
        "    for j in i:\n",
        "        x.append(len(j))\n",
        "\n",
        "list_of_tuples.append(x)\n",
        "for i in range(len(x)):\n",
        "    for j in list_of_tuples:\n",
        "        print(j[i])"
      ],
      "metadata": {
        "colab": {
          "base_uri": "https://localhost:8080/"
        },
        "id": "CNIAXNk4FekX",
        "outputId": "446389c2-3747-48dc-f540-dc13f428ce71"
      },
      "execution_count": null,
      "outputs": [
        {
          "output_type": "stream",
          "name": "stdout",
          "text": [
            "List of Friends 5\n",
            "['Aditya', 'Abhi', 'Warun', 'Varun', 'Suraj']\n",
            "Aditya\n",
            "6\n",
            "Abhi\n",
            "4\n",
            "Warun\n",
            "5\n",
            "Varun\n",
            "5\n",
            "Suraj\n",
            "5\n"
          ]
        }
      ]
    },
    {
      "cell_type": "markdown",
      "source": [
        "<hr>"
      ],
      "metadata": {
        "id": "7o42Zj88FrvJ"
      }
    },
    {
      "cell_type": "markdown",
      "source": [
        "<h4>2.You and your partner are planning a trip, and you want to track expenses.\n",
        "Create two dictionaries, one for your expenses and one for your partner's\n",
        "expenses. Each dictionary should contain at least 5 expense categories and their\n",
        "corresponding amounts.</h4>"
      ],
      "metadata": {
        "id": "fS_O09ToFtK4"
      }
    },
    {
      "cell_type": "markdown",
      "source": [
        "<h3>Calculate the total expenses for each of you and print the results.</h3>"
      ],
      "metadata": {
        "id": "7cmjrZ_76jMB"
      }
    },
    {
      "cell_type": "code",
      "source": [
        "my_expenses = {\n",
        "\"Travel\": 1000,\n",
        "\"Food\": 500,\n",
        "\"Hotel\": 1500,\n",
        "\"Attractions\": 1300,\n",
        "\"Miscellaneous\": 1200\n",
        "}\n",
        "\n",
        "partner_expenses = {\n",
        "\"Travel\": 1000,\n",
        "\"Food\": 900,\n",
        "\"Hotel\": 1600,\n",
        "\"Attractions\": 2400,\n",
        "\"Miscellaneous\": 1250\n",
        "}\n",
        "\n",
        "total ={}\n",
        "for i in my_expenses.keys():\n",
        "    total[i]=my_expenses[i]+partner_expenses[i]\n",
        "print(\"=====Total Expenses=====\")\n",
        "print(total)"
      ],
      "metadata": {
        "colab": {
          "base_uri": "https://localhost:8080/"
        },
        "id": "vtBFHphA6pVM",
        "outputId": "f29dbce7-8834-4c13-a60d-22719da022f3"
      },
      "execution_count": null,
      "outputs": [
        {
          "output_type": "stream",
          "name": "stdout",
          "text": [
            "=====Total Expenses=====\n",
            "{'Travel': 2000, 'Food': 1400, 'Hotel': 3100, 'Attractions': 3700, 'Miscellaneous': 2450}\n"
          ]
        }
      ]
    },
    {
      "cell_type": "markdown",
      "source": [
        "<h3>Determine who spent more money overall and print the result.</h3>"
      ],
      "metadata": {
        "id": "9pNr5gkg69GC"
      }
    },
    {
      "cell_type": "code",
      "source": [
        "my_money={sum(my_expenses.values())}\n",
        "partner_money={sum(partner_expenses.values())}\n",
        "if my_money >= partner_money:\n",
        "    for i in my_money:\n",
        "        print(f\"I spent {i} more then my partner..\")\n",
        "else:\n",
        "    for i in partner_money:\n",
        "        print(f\"My partner spent {i} more then Me..\")"
      ],
      "metadata": {
        "colab": {
          "base_uri": "https://localhost:8080/"
        },
        "id": "aWreHIWa7Atw",
        "outputId": "1fa55ebb-3072-45e7-9efd-aed6259dc6a1"
      },
      "execution_count": null,
      "outputs": [
        {
          "output_type": "stream",
          "name": "stdout",
          "text": [
            "My partner spent 7150 more then Me..\n"
          ]
        }
      ]
    },
    {
      "cell_type": "markdown",
      "source": [
        "<h3>Find out the expense category where there is a significant difference in spending\n",
        "between you and your partner.</h3>"
      ],
      "metadata": {
        "id": "-fbwjNQc79K6"
      }
    },
    {
      "cell_type": "code",
      "source": [
        "my_exp=my_expenses.values()\n",
        "partner_exp=partner_expenses.values()\n",
        "\n",
        "expense_tracking=[my_expenses,partner_expenses]\n",
        "x=[]\n",
        "\n",
        "exp_category={}\n",
        "for i in my_expenses.keys():\n",
        "    exp_category[i]=my_expenses[i]-partner_expenses[i]\n",
        "\n",
        "difference=[(i,j) for i,j in exp_category.items() if j<0]\n",
        "\n",
        "print(\"=====Difference in expenses=====\")\n",
        "for i,j in difference:\n",
        "    print(f\"Category {i}\\n{j}\")"
      ],
      "metadata": {
        "colab": {
          "base_uri": "https://localhost:8080/"
        },
        "id": "LKS1dq_88K9e",
        "outputId": "dcbf424a-13cc-423c-e746-a423ace7393f"
      },
      "execution_count": null,
      "outputs": [
        {
          "output_type": "stream",
          "name": "stdout",
          "text": [
            "=====Difference in expenses=====\n",
            "Category Food\n",
            "-400\n",
            "Category Hotel\n",
            "-100\n",
            "Category Attractions\n",
            "-1100\n",
            "Category Miscellaneous\n",
            "-50\n"
          ]
        }
      ]
    },
    {
      "cell_type": "markdown",
      "source": [
        "<h1>Inheritance</h1>"
      ],
      "metadata": {
        "id": "ckEGNDnrEWLY"
      }
    },
    {
      "cell_type": "markdown",
      "source": [
        "<h4>1. Create inheritance using MobilePhone as base class and Apple &\n",
        "Samsung as child class.</h4>"
      ],
      "metadata": {
        "id": "fcuZtSstEa4r"
      }
    },
    {
      "cell_type": "markdown",
      "source": [
        "<h3>1. The base class should have properties:\n",
        "1. ScreenType = Touch Screen\n",
        "2. NetworkType = 4G/5G\n",
        "3. DualSim = True or False\n",
        "4. FrontCamera = (5MP/8MP/12MP/16MP)\n",
        "5. rearCamera = (8MP/12MP/16MP/32MP/48MP)\n",
        "6. RAM = (2GB/3GB/4GB)\n",
        "7. Storage = (16GB/32GB/64GB)</h3>"
      ],
      "metadata": {
        "id": "doPT2t4aEoF_"
      }
    },
    {
      "cell_type": "markdown",
      "source": [
        "<h4>2. Create basic mobile phone functionalities in the classes like:\n",
        "make_call, recieve_call, take_a_picture, etc.\n",
        "3. Use super() constructor for calling parent class’s constructor\n",
        "4. Make some objects of Apple class with different properties\n",
        "5. Make some objects of Samsung class with different properties.</h4>"
      ],
      "metadata": {
        "id": "gc-BHrG4FAI4"
      }
    },
    {
      "cell_type": "code",
      "source": [
        "class MobilePhone:\n",
        "    def __init__(self,scrntype,ntwtype,dualsim,frntcam,rearcam,ram,storage):\n",
        "        self.scrntype=scrntype\n",
        "        self.ntwtype=ntwtype\n",
        "        self.dualsim=dualsim\n",
        "        self.frntcam=frntcam\n",
        "        self.rearcam=rearcam\n",
        "        self.ram=ram\n",
        "        self.storage=storage\n",
        "\n",
        "    def call(self):\n",
        "        print(f\"Calling...\\nNetwork type {self.ntwtype}\")\n",
        "\n",
        "    def receive_call(self):\n",
        "        print(f\"Incoming Call...\\nNetwork type{self.ntwtype}\")\n",
        "\n",
        "    def picture(self):\n",
        "        print(f\"Taking picture from...\\n{self.frntcam}\")\n",
        "\n",
        "\n",
        "class Apple(MobilePhone):\n",
        "    def receive_call(self):\n",
        "        print(f\"Calling from...{self.dualsim}\")\n",
        "\n",
        "    def selfie(self):\n",
        "        print(f\"Selfie with{self.rearcam}\")\n",
        "        super().receive_call()\n",
        "\n",
        "class Samsung(MobilePhone):\n",
        "    def call(self):\n",
        "        print(f\"Call me...\")\n",
        "        super().receive_call()\n",
        "\n",
        "\n",
        "x=MobilePhone(\"Touch Screen\",\"4G/5G\",\"True or False\",\"(5MP/8MP/12MP/16MP)\",\"(8MP/12MP/16MP/32MP/48MP)\",\"(2GB/3GB/4GB)\",\"(16GB/32GB/64GB)\")\n",
        "\n",
        "s=Samsung(\"Touch Screen\",\"4G/5G\",\"True or False\",\"(5MP/8MP/12MP/16MP)\",\"(8MP/12MP/16MP/32MP/48MP)\",\"(2GB/3GB/4GB)\",\"(16GB/32GB/64GB)\")\n",
        "x.call()\n",
        "x.picture()\n",
        "s.call()"
      ],
      "metadata": {
        "colab": {
          "base_uri": "https://localhost:8080/"
        },
        "id": "1dSb4X1rE7jQ",
        "outputId": "42097656-2d1f-4147-fa24-7b77448b0861"
      },
      "execution_count": null,
      "outputs": [
        {
          "output_type": "stream",
          "name": "stdout",
          "text": [
            "Calling...\n",
            "Network type 4G/5G\n",
            "Taking picture from...\n",
            "(5MP/8MP/12MP/16MP)\n",
            "Call me...\n",
            "Incoming Call...\n",
            "Network type4G/5G\n"
          ]
        }
      ]
    },
    {
      "cell_type": "markdown",
      "source": [
        "<hr>\n",
        "<hr>"
      ],
      "metadata": {
        "id": "pe30KITOFi2q"
      }
    }
  ]
}