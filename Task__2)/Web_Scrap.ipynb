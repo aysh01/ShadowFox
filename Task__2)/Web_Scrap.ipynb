{
  "nbformat": 4,
  "nbformat_minor": 0,
  "metadata": {
    "colab": {
      "provenance": []
    },
    "kernelspec": {
      "name": "python3",
      "display_name": "Python 3"
    },
    "language_info": {
      "name": "python"
    }
  },
  "cells": [
    {
      "cell_type": "code",
      "execution_count": null,
      "metadata": {
        "id": "6DB1nAbC09Yb",
        "colab": {
          "base_uri": "https://localhost:8080/"
        },
        "outputId": "3a009873-9317-4fc8-826d-ff0489a91cbf"
      },
      "outputs": [
        {
          "output_type": "stream",
          "name": "stdout",
          "text": [
            "Search Here..Arjit Singh Songs\n",
            "O Maahi\n",
            "Lutt Putt Gaya\n",
            "Bandeya Re Bandeya\n",
            "Desh Mere\n",
            "Hamari Adhuri Kahani\n",
            "Chaleya\n",
            "Galti Se Mistake\n",
            "Neki Ki Raah\n",
            "Satranga\n",
            "Main Dhoondne Ko Zamaane Mein\n",
            "Tera Yaar Hoon Main\n",
            "Heeriye\n",
            "Jhoome Jo Pathaan\n",
            "Heeriye Slowed + Reverb\n",
            "Leke Prabhu Ka Naam\n",
            "Nashe Si Chadh Gayi\n",
            "Dhaagon Se Baandhaa\n",
            "Apna Bana Le\n",
            "Woh Din\n",
            "Lambiyaan Si Judaiyaan\n",
            "Kesariya\n",
            "Oonchi Oonchi Deewarein\n",
            "Love Mashup\n",
            "Agar Tum Saath Ho\n",
            "Zaalima\n",
            "Main Tera Boyfriend\n",
            "Saware\n",
            "Naina\n",
            "What Jhumka ?\n",
            "O Bedardeya\n",
            "Lehra Do\n",
            "Arijit Singh (अरिजीत सिंह)\n",
            "Arijit singh songs collection ❤#music #arijitsingh ... - YouTube\n",
            "Best of Arijit Singh - Full Album - - YouTube\n",
            "List of songs recorded by Arijit Singh - Wikipedia\n",
            "Top 10 Songs | Jukebox | Arijit Singh Hit Songs 2024 - YouTube\n",
            "Best of Arijit Singh - Album by Arijit Singh - Apple Music\n",
            "Arijit Singh - Spotify\n",
            "Arijit Singh Songs Download - Free Online Songs @JioSaavn\n",
            "Arijit Singh - YouTube\n",
            "LONG DRIVE Bollywood Mix - Arijit Singh | Full Album - YouTube\n",
            "Arijit Singh - Wikipedia\n",
            "O Maahi\n",
            "Lutt Putt Gaya\n",
            "Bandeya Re Bandeya\n",
            "Desh Mere\n",
            "Hamari Adhuri Kahani\n",
            "Chaleya\n",
            "Galti Se Mistake\n",
            "Neki Ki Raah\n",
            "Satranga\n",
            "Main Dhoondne Ko Zamaane Mein\n",
            "Tera Yaar Hoon Main\n",
            "Heeriye\n",
            "Jhoome Jo Pathaan\n",
            "Heeriye Slowed + Reverb\n",
            "Leke Prabhu Ka Naam\n",
            "Nashe Si Chadh Gayi\n",
            "Dhaagon Se Baandhaa\n",
            "Apna Bana Le\n",
            "Woh Din\n",
            "Lambiyaan Si Judaiyaan\n",
            "Kesariya\n",
            "Oonchi Oonchi Deewarein\n",
            "Love Mashup\n",
            "Agar Tum Saath Ho\n",
            "Zaalima\n",
            "Main Tera Boyfriend\n",
            "Saware\n",
            "Naina\n",
            "What Jhumka ?\n",
            "O Bedardeya\n",
            "Lehra Do\n",
            "Arijit Singh (अरिजीत सिंह)\n",
            "Arijit singh songs collection ❤#music #arijitsingh ... - YouTube\n",
            "Best of Arijit Singh - Full Album - - YouTube\n",
            "List of songs recorded by Arijit Singh - Wikipedia\n",
            "Top 10 Songs | Jukebox | Arijit Singh Hit Songs 2024 - YouTube\n",
            "Best of Arijit Singh - Album by Arijit Singh - Apple Music\n",
            "Arijit Singh - Spotify\n",
            "Arijit Singh Songs Download - Free Online Songs @JioSaavn\n",
            "Arijit Singh - YouTube\n",
            "LONG DRIVE Bollywood Mix - Arijit Singh | Full Album - YouTube\n",
            "Arijit Singh - Wikipedia\n"
          ]
        }
      ],
      "source": [
        "import requests\n",
        "from bs4 import BeautifulSoup\n",
        "import re\n",
        "\n",
        "# search_query = \"your_search_term\"\n",
        "search=input(\"Search Here..\")\n",
        "url = f\"https://www.google.com/search?q={search}&sourceid=chrome-mobile&ie=UTF-8\"\n",
        "response = requests.get(url)\n",
        "html_content = response.text\n",
        "\n",
        "soup = BeautifulSoup(html_content, \"html.parser\")\n",
        "search_results = soup.find_all(\"h3\")\n",
        "\n",
        "result_titles=[]\n",
        "\n",
        "result_titles = [result.get_text() for result in search_results]\n",
        "\n",
        "for result in search_results:\n",
        "  if result.find(\"a\"):\n",
        "    continue #\"a\"\n",
        "  result_titles.append(result.get_text())\n",
        "\n",
        "for title in result_titles:\n",
        "    print(title)"
      ]
    },
    {
      "cell_type": "markdown",
      "source": [
        "# Data Cleaning"
      ],
      "metadata": {
        "id": "_6BREMHj2ONa"
      }
    },
    {
      "cell_type": "code",
      "source": [
        "search_input=search.split(\",\")\n",
        "search_list=[[i] for i in search_input]\n",
        "new_data=list(set(result_titles))\n",
        "\n",
        "Formated_data=[i.strip() for i in new_data if search_list[0] not in new_data]\n",
        "\n",
        "for j in Formated_data:\n",
        "  print(j,\"\")"
      ],
      "metadata": {
        "id": "0X0IU3IvcKl9",
        "colab": {
          "base_uri": "https://localhost:8080/"
        },
        "outputId": "48324810-a091-4da5-8c4f-4b13a8a2d7d1"
      },
      "execution_count": null,
      "outputs": [
        {
          "output_type": "stream",
          "name": "stdout",
          "text": [
            "Arijit Singh Songs Download - Free Online Songs @JioSaavn \n",
            "Main Tera Boyfriend \n",
            "List of songs recorded by Arijit Singh - Wikipedia \n",
            "Leke Prabhu Ka Naam \n",
            "Best of Arijit Singh - Full Album - - YouTube \n",
            "Bandeya Re Bandeya \n",
            "Heeriye \n",
            "Galti Se Mistake \n",
            "Dhaagon Se Baandhaa \n",
            "Tera Yaar Hoon Main \n",
            "Desh Mere \n",
            "Oonchi Oonchi Deewarein \n",
            "Lehra Do \n",
            "Neki Ki Raah \n",
            "Lambiyaan Si Judaiyaan \n",
            "Jhoome Jo Pathaan \n",
            "Kesariya \n",
            "Heeriye Slowed + Reverb \n",
            "Apna Bana Le \n",
            "Love Mashup \n",
            "Saware \n",
            "Satranga \n",
            "Top 10 Songs | Jukebox | Arijit Singh Hit Songs 2024 - YouTube \n",
            "O Maahi \n",
            "Woh Din \n",
            "Arijit singh songs collection ❤#music #arijitsingh ... - YouTube \n",
            "Arijit Singh - Spotify \n",
            "Zaalima \n",
            "Arijit Singh (अरिजीत सिंह) \n",
            "Chaleya \n",
            "LONG DRIVE Bollywood Mix - Arijit Singh | Full Album - YouTube \n",
            "Main Dhoondne Ko Zamaane Mein \n",
            "Naina \n",
            "Arijit Singh - YouTube \n",
            "Arijit Singh - Wikipedia \n",
            "Agar Tum Saath Ho \n",
            "Lutt Putt Gaya \n",
            "O Bedardeya \n",
            "What Jhumka ? \n",
            "Hamari Adhuri Kahani \n",
            "Nashe Si Chadh Gayi \n",
            "Best of Arijit Singh - Album by Arijit Singh - Apple Music \n"
          ]
        }
      ]
    },
    {
      "cell_type": "code",
      "source": [
        "print(Formated_data)"
      ],
      "metadata": {
        "colab": {
          "base_uri": "https://localhost:8080/"
        },
        "id": "b-8VU2xXbTXa",
        "outputId": "36b9bd5e-bd38-4a68-eb73-294adb3bcc6c"
      },
      "execution_count": null,
      "outputs": [
        {
          "output_type": "stream",
          "name": "stdout",
          "text": [
            "['Arijit Singh Songs Download - Free Online Songs @JioSaavn', 'Main Tera Boyfriend', 'List of songs recorded by Arijit Singh - Wikipedia', 'Leke Prabhu Ka Naam', 'Best of Arijit Singh - Full Album - - YouTube', 'Bandeya Re Bandeya', 'Heeriye', 'Galti Se Mistake', 'Dhaagon Se Baandhaa', 'Tera Yaar Hoon Main', 'Desh Mere', 'Oonchi Oonchi Deewarein', 'Lehra Do', 'Neki Ki Raah', 'Lambiyaan Si Judaiyaan', 'Jhoome Jo Pathaan', 'Kesariya', 'Heeriye Slowed + Reverb', 'Apna Bana Le', 'Love Mashup', 'Saware', 'Satranga', 'Top 10 Songs | Jukebox | Arijit Singh Hit Songs 2024 - YouTube', 'O Maahi', 'Woh Din', 'Arijit singh songs collection ❤#music #arijitsingh ... - YouTube', 'Arijit Singh - Spotify', 'Zaalima', 'Arijit Singh (अरिजीत सिंह)', 'Chaleya', 'LONG DRIVE Bollywood Mix - Arijit Singh | Full Album - YouTube', 'Main Dhoondne Ko Zamaane Mein', 'Naina', 'Arijit Singh - YouTube', 'Arijit Singh - Wikipedia', 'Agar Tum Saath Ho', 'Lutt Putt Gaya', 'O Bedardeya', 'What Jhumka ?', 'Hamari Adhuri Kahani', 'Nashe Si Chadh Gayi', 'Best of Arijit Singh - Album by Arijit Singh - Apple Music']\n"
          ]
        }
      ]
    },
    {
      "cell_type": "markdown",
      "source": [
        "# Removing Irrelevant Data"
      ],
      "metadata": {
        "id": "mOhVy09-64my"
      }
    },
    {
      "cell_type": "code",
      "source": [
        "# Removing Unnecessary - Data..\n",
        "relevant_data=[j for j in Formated_data if ' - ' not in j]\n",
        "\n",
        "# Ensuring Data Consistency..\n",
        "formated_data=[j.capitalize() for j in relevant_data]\n",
        "\n",
        "# Removing Duplicates..\n",
        "unique_data=list(set(formated_data))\n",
        "\n",
        "for i in unique_data:\n",
        "  print(i,\"\")"
      ],
      "metadata": {
        "colab": {
          "base_uri": "https://localhost:8080/"
        },
        "id": "athIlwrm4laB",
        "outputId": "2d4369cb-cd6e-4709-89f3-9bcd1cd265a4"
      },
      "execution_count": null,
      "outputs": [
        {
          "output_type": "stream",
          "name": "stdout",
          "text": [
            "Woh din \n",
            "Leke prabhu ka naam \n",
            "Heeriye slowed + reverb \n",
            "Lambiyaan si judaiyaan \n",
            "Tera yaar hoon main \n",
            "Heeriye \n",
            "Lehra do \n",
            "What jhumka ? \n",
            "Hamari adhuri kahani \n",
            "Kesariya \n",
            "Main tera boyfriend \n",
            "Galti se mistake \n",
            "O maahi \n",
            "Bandeya re bandeya \n",
            "Saware \n",
            "Satranga \n",
            "Lutt putt gaya \n",
            "Love mashup \n",
            "Zaalima \n",
            "Chaleya \n",
            "Agar tum saath ho \n",
            "Jhoome jo pathaan \n",
            "Naina \n",
            "Apna bana le \n",
            "Desh mere \n",
            "Oonchi oonchi deewarein \n",
            "Dhaagon se baandhaa \n",
            "Nashe si chadh gayi \n",
            "O bedardeya \n",
            "Arijit singh (अरिजीत सिंह) \n",
            "Neki ki raah \n",
            "Main dhoondne ko zamaane mein \n"
          ]
        }
      ]
    },
    {
      "cell_type": "code",
      "source": [
        "import pandas as pd\n",
        "df=pd.DataFrame(search, unique_data, columns=['Data','query'])\n",
        "\n",
        "path='file.csv'\n",
        "df.to_csv(path,index=False)"
      ],
      "metadata": {
        "id": "sh1hJ8kDvSlM"
      },
      "execution_count": null,
      "outputs": []
    },
    {
      "cell_type": "code",
      "source": [
        "from sklearn.feature_extraction.text import TfidfVectorizer\n",
        "from sklearn.model_selection import train_test_split\n",
        "from sklearn.linear_model import LogisticRegression\n",
        "from sklearn.metrics import accuracy_score\n",
        "import pandas as pd\n",
        "\n",
        "data = pd.read_csv('file.csv')\n",
        "\n",
        "tfidf_vectorizer = TfidfVectorizer()\n",
        "X = tfidf_vectorizer.fit_transform(data['Data'])\n",
        "y = data['Data']\n",
        "\n",
        "# 4. Model selection\n",
        "model = LogisticRegression()\n",
        "\n",
        "# 5. Train the model\n",
        "X_train, X_test, y_train, y_test = train_test_split(X, y, test_size=0.2, random_state=42)\n",
        "model.fit(X_train, y_train)\n",
        "\n",
        "# 6. Evaluate the model\n",
        "y_pred = model.predict(X_test)\n",
        "accuracy = accuracy_score(y_test, y_pred)\n",
        "print(\"Accuracy:\", accuracy)\n",
        "\n",
        "# 7. Fine-tuning (if necessary)\n",
        "\n",
        "# 8. Deployment\n",
        "# Deploy the trained model in your application for real-time classification"
      ],
      "metadata": {
        "colab": {
          "base_uri": "https://localhost:8080/",
          "height": 332
        },
        "id": "m9gcao10xNS_",
        "outputId": "b58faa63-c33b-41cb-904d-b403d74e92ce"
      },
      "execution_count": null,
      "outputs": [
        {
          "output_type": "error",
          "ename": "ValueError",
          "evalue": "This solver needs samples of at least 2 classes in the data, but the data contains only one class: 'Arjit Singh Songs'",
          "traceback": [
            "\u001b[0;31m---------------------------------------------------------------------------\u001b[0m",
            "\u001b[0;31mValueError\u001b[0m                                Traceback (most recent call last)",
            "\u001b[0;32m<ipython-input-15-03225022e897>\u001b[0m in \u001b[0;36m<cell line: 18>\u001b[0;34m()\u001b[0m\n\u001b[1;32m     16\u001b[0m \u001b[0;31m# 5. Train the model\u001b[0m\u001b[0;34m\u001b[0m\u001b[0;34m\u001b[0m\u001b[0m\n\u001b[1;32m     17\u001b[0m \u001b[0mX_train\u001b[0m\u001b[0;34m,\u001b[0m \u001b[0mX_test\u001b[0m\u001b[0;34m,\u001b[0m \u001b[0my_train\u001b[0m\u001b[0;34m,\u001b[0m \u001b[0my_test\u001b[0m \u001b[0;34m=\u001b[0m \u001b[0mtrain_test_split\u001b[0m\u001b[0;34m(\u001b[0m\u001b[0mX\u001b[0m\u001b[0;34m,\u001b[0m \u001b[0my\u001b[0m\u001b[0;34m,\u001b[0m \u001b[0mtest_size\u001b[0m\u001b[0;34m=\u001b[0m\u001b[0;36m0.2\u001b[0m\u001b[0;34m,\u001b[0m \u001b[0mrandom_state\u001b[0m\u001b[0;34m=\u001b[0m\u001b[0;36m42\u001b[0m\u001b[0;34m)\u001b[0m\u001b[0;34m\u001b[0m\u001b[0;34m\u001b[0m\u001b[0m\n\u001b[0;32m---> 18\u001b[0;31m \u001b[0mmodel\u001b[0m\u001b[0;34m.\u001b[0m\u001b[0mfit\u001b[0m\u001b[0;34m(\u001b[0m\u001b[0mX_train\u001b[0m\u001b[0;34m,\u001b[0m \u001b[0my_train\u001b[0m\u001b[0;34m)\u001b[0m\u001b[0;34m\u001b[0m\u001b[0;34m\u001b[0m\u001b[0m\n\u001b[0m\u001b[1;32m     19\u001b[0m \u001b[0;34m\u001b[0m\u001b[0m\n\u001b[1;32m     20\u001b[0m \u001b[0;31m# 6. Evaluate the model\u001b[0m\u001b[0;34m\u001b[0m\u001b[0;34m\u001b[0m\u001b[0m\n",
            "\u001b[0;32m/usr/local/lib/python3.10/dist-packages/sklearn/linear_model/_logistic.py\u001b[0m in \u001b[0;36mfit\u001b[0;34m(self, X, y, sample_weight)\u001b[0m\n\u001b[1;32m   1239\u001b[0m         \u001b[0mclasses_\u001b[0m \u001b[0;34m=\u001b[0m \u001b[0mself\u001b[0m\u001b[0;34m.\u001b[0m\u001b[0mclasses_\u001b[0m\u001b[0;34m\u001b[0m\u001b[0;34m\u001b[0m\u001b[0m\n\u001b[1;32m   1240\u001b[0m         \u001b[0;32mif\u001b[0m \u001b[0mn_classes\u001b[0m \u001b[0;34m<\u001b[0m \u001b[0;36m2\u001b[0m\u001b[0;34m:\u001b[0m\u001b[0;34m\u001b[0m\u001b[0;34m\u001b[0m\u001b[0m\n\u001b[0;32m-> 1241\u001b[0;31m             raise ValueError(\n\u001b[0m\u001b[1;32m   1242\u001b[0m                 \u001b[0;34m\"This solver needs samples of at least 2 classes\"\u001b[0m\u001b[0;34m\u001b[0m\u001b[0;34m\u001b[0m\u001b[0m\n\u001b[1;32m   1243\u001b[0m                 \u001b[0;34m\" in the data, but the data contains only one\"\u001b[0m\u001b[0;34m\u001b[0m\u001b[0;34m\u001b[0m\u001b[0m\n",
            "\u001b[0;31mValueError\u001b[0m: This solver needs samples of at least 2 classes in the data, but the data contains only one class: 'Arjit Singh Songs'"
          ]
        }
      ]
    },
    {
      "cell_type": "markdown",
      "source": [
        "# Reel Dataset"
      ],
      "metadata": {
        "id": "Er_lhfgDBe1O"
      }
    },
    {
      "cell_type": "code",
      "source": [
        "import csv\n",
        "names=['No', 'Company', 'Car Model']\n",
        "\n",
        "cars = [\n",
        "{'No': 1, 'Company': 'Ferrari', 'Car Model': '488 GTB'},\n",
        "{'No': 2, 'Company': 'Porsche', 'Car Model': '918 Spyder'},\n",
        "{'No': 3, 'Company': 'Bugatti', 'Car Model': 'La Voiture Noire'},\n",
        "{'No': 4, 'Company': 'Rolls Royce', 'Car Model': 'Phantom'},\n",
        "{'No': 5, 'Company': 'BMW', 'Car Model': 'BMW X7'},\n",
        "]\n",
        "\n",
        "with open('train.csv', 'w') as fs:\n",
        "    try:\n",
        "        w = csv.DictWriter(fs, fieldnames=names)\n",
        "        w.writeheader()\n",
        "        w.writerows(cars)\n",
        "        print(\"Data Frame created sucessfully...\")\n",
        "        fs.close()\n",
        "    except Exception as e:\n",
        "        print(e)\n",
        "\n",
        "with open('train.csv','r') as fs:\n",
        "    try:\n",
        "        c=csv.DictReader(fs,fieldnames=names)\n",
        "        for i in c:\n",
        "            print(i,end=\"\\n\")\n",
        "    except Exception as e:\n",
        "        print(e)\n",
        "    fs.close()"
      ],
      "metadata": {
        "colab": {
          "base_uri": "https://localhost:8080/"
        },
        "id": "Ip-8vbR-IM9_",
        "outputId": "fc543896-3bca-47fa-b369-8ae924ec6da0"
      },
      "execution_count": null,
      "outputs": [
        {
          "output_type": "stream",
          "name": "stdout",
          "text": [
            "DataSet Created Sucessfully..\n"
          ]
        }
      ]
    },
    {
      "cell_type": "code",
      "source": [
        "!pip install schedule"
      ],
      "metadata": {
        "colab": {
          "base_uri": "https://localhost:8080/"
        },
        "id": "X1DZFiiwLxhp",
        "outputId": "115f5ce9-c01b-4d0a-b1a5-ab3253b28121"
      },
      "execution_count": null,
      "outputs": [
        {
          "output_type": "stream",
          "name": "stdout",
          "text": [
            "Requirement already satisfied: schedule in /usr/local/lib/python3.10/dist-packages (1.2.1)\n"
          ]
        }
      ]
    },
    {
      "cell_type": "code",
      "source": [
        "import schedule\n",
        "\n",
        "def daily_task():\n",
        "    # Your daily task goes here\n",
        "    scrap()\n",
        "\n",
        "# Schedule the daily task to run every day at 8:00 AM\n",
        "schedule.every().day.at(\"08:00\").do(daily_task)\n",
        "\n",
        "# Keep the script running indefinitely\n"
      ],
      "metadata": {
        "colab": {
          "base_uri": "https://localhost:8080/"
        },
        "id": "GGTUF0_BLgBq",
        "outputId": "d0ff102b-c66b-48c5-a870-4a44b838f6ff"
      },
      "execution_count": null,
      "outputs": [
        {
          "output_type": "execute_result",
          "data": {
            "text/plain": [
              "Every 1 day at 08:00:00 do daily_task() (last run: [never], next run: 2024-03-16 08:00:00)"
            ]
          },
          "metadata": {},
          "execution_count": 20
        }
      ]
    },
    {
      "cell_type": "code",
      "source": [
        "# Contains sequence of characters\n",
        "import re as r\n",
        "x=r.compile('good')\n",
        "a='2k23 was good..'\n",
        "sum1=x.findall(a)\n",
        "sum=x.split(a)\n",
        "# sum=x.search(a)\n",
        "print(sum1,sum)"
      ],
      "metadata": {
        "id": "dKT0xAuNNoC-"
      },
      "execution_count": null,
      "outputs": []
    },
    {
      "cell_type": "code",
      "source": [
        "def search(self):\n",
        "    self=input(\"SEARCH HERE..\")\n",
        "\n",
        "    x=r.compile(self)\n",
        "    a='2k23 was good..'\n",
        "    sum1=x.findall(a)\n",
        "    print('Matching Input ',sum1)\n",
        "    pass\n",
        "\n",
        "search(Self)"
      ],
      "metadata": {
        "id": "BCBufEBrPdDR"
      },
      "execution_count": null,
      "outputs": []
    }
  ]
}