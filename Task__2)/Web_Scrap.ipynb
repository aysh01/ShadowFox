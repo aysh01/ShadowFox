{
  "nbformat": 4,
  "nbformat_minor": 0,
  "metadata": {
    "colab": {
      "provenance": []
    },
    "kernelspec": {
      "name": "python3",
      "display_name": "Python 3"
    },
    "language_info": {
      "name": "python"
    }
  },
  "cells": [
    {
      "cell_type": "code",
      "execution_count": null,
      "metadata": {
        "id": "6DB1nAbC09Yb",
        "colab": {
          "base_uri": "https://localhost:8080/"
        },
        "outputId": "3a009873-9317-4fc8-826d-ff0489a91cbf"
      },
      "outputs": [
        {
          "output_type": "stream",
          "name": "stdout",
          "text": [
            "Search Here..Arjit Singh Songs\n",
            "O Maahi\n",
            "Lutt Putt Gaya\n",
            "Bandeya Re Bandeya\n",
            "Desh Mere\n",
            "Hamari Adhuri Kahani\n",
            "Chaleya\n",
            "Galti Se Mistake\n",
            "Neki Ki Raah\n",
            "Satranga\n",
            "Main Dhoondne Ko Zamaane Mein\n",
            "Tera Yaar Hoon Main\n",
            "Heeriye\n",
            "Jhoome Jo Pathaan\n",
            "Heeriye Slowed + Reverb\n",
            "Leke Prabhu Ka Naam\n",
            "Nashe Si Chadh Gayi\n",
            "Dhaagon Se Baandhaa\n",
            "Apna Bana Le\n",
            "Woh Din\n",
            "Lambiyaan Si Judaiyaan\n",
            "Kesariya\n",
            "Oonchi Oonchi Deewarein\n",
            "Love Mashup\n",
            "Agar Tum Saath Ho\n",
            "Zaalima\n",
            "Main Tera Boyfriend\n",
            "Saware\n",
            "Naina\n",
            "What Jhumka ?\n",
            "O Bedardeya\n",
            "Lehra Do\n",
            "Arijit Singh (अरिजीत सिंह)\n",
            "Arijit singh songs collection ❤#music #arijitsingh ... - YouTube\n",
            "Best of Arijit Singh - Full Album - - YouTube\n",
            "List of songs recorded by Arijit Singh - Wikipedia\n",
            "Top 10 Songs | Jukebox | Arijit Singh Hit Songs 2024 - YouTube\n",
            "Best of Arijit Singh - Album by Arijit Singh - Apple Music\n",
            "Arijit Singh - Spotify\n",
            "Arijit Singh Songs Download - Free Online Songs @JioSaavn\n",
            "Arijit Singh - YouTube\n",
            "LONG DRIVE Bollywood Mix - Arijit Singh | Full Album - YouTube\n",
            "Arijit Singh - Wikipedia\n",
            "O Maahi\n",
            "Lutt Putt Gaya\n",
            "Bandeya Re Bandeya\n",
            "Desh Mere\n",
            "Hamari Adhuri Kahani\n",
            "Chaleya\n",
            "Galti Se Mistake\n",
            "Neki Ki Raah\n",
            "Satranga\n",
            "Main Dhoondne Ko Zamaane Mein\n",
            "Tera Yaar Hoon Main\n",
            "Heeriye\n",
            "Jhoome Jo Pathaan\n",
            "Heeriye Slowed + Reverb\n",
            "Leke Prabhu Ka Naam\n",
            "Nashe Si Chadh Gayi\n",
            "Dhaagon Se Baandhaa\n",
            "Apna Bana Le\n",
            "Woh Din\n",
            "Lambiyaan Si Judaiyaan\n",
            "Kesariya\n",
            "Oonchi Oonchi Deewarein\n",
            "Love Mashup\n",
            "Agar Tum Saath Ho\n",
            "Zaalima\n",
            "Main Tera Boyfriend\n",
            "Saware\n",
            "Naina\n",
            "What Jhumka ?\n",
            "O Bedardeya\n",
            "Lehra Do\n",
            "Arijit Singh (अरिजीत सिंह)\n",
            "Arijit singh songs collection ❤#music #arijitsingh ... - YouTube\n",
            "Best of Arijit Singh - Full Album - - YouTube\n",
            "List of songs recorded by Arijit Singh - Wikipedia\n",
            "Top 10 Songs | Jukebox | Arijit Singh Hit Songs 2024 - YouTube\n",
            "Best of Arijit Singh - Album by Arijit Singh - Apple Music\n",
            "Arijit Singh - Spotify\n",
            "Arijit Singh Songs Download - Free Online Songs @JioSaavn\n",
            "Arijit Singh - YouTube\n",
            "LONG DRIVE Bollywood Mix - Arijit Singh | Full Album - YouTube\n",
            "Arijit Singh - Wikipedia\n"
          ]
        }
      ],
      "source": [
        "import requests\n",
        "from bs4 import BeautifulSoup\n",
        "import re\n",
        "\n",
        "# search_query = \"your_search_term\"\n",
        "search=input(\"Search Here..\")\n",
        "url = f\"https://www.google.com/search?q={search}&sourceid=chrome-mobile&ie=UTF-8\"\n",
        "response = requests.get(url)\n",
        "html_content = response.text\n",
        "\n",
        "soup = BeautifulSoup(html_content, \"html.parser\")\n",
        "search_results = soup.find_all(\"h3\")\n",
        "\n",
        "result_titles=[]\n",
        "\n",
        "result_titles = [result.get_text() for result in search_results]\n",
        "\n",
        "for result in search_results:\n",
        "  if result.find(\"a\"):\n",
        "    continue #\"a\"\n",
        "  result_titles.append(result.get_text())\n",
        "\n",
        "for title in result_titles:\n",
        "    print(title)"
      ]
    },
    {
      "cell_type": "markdown",
      "source": [
        "# Data Cleaning"
      ],
      "metadata": {
        "id": "_6BREMHj2ONa"
      }
    },
    {
      "cell_type": "code",
      "source": [
        "search_input=search.split(\",\")\n",
        "search_list=[[i] for i in search_input]\n",
        "new_data=list(set(result_titles))\n",
        "\n",
        "Formated_data=[i.strip() for i in new_data if search_list[0] not in new_data]\n",
        "\n",
        "for j in Formated_data:\n",
        "  print(j,\"\")"
      ],
      "metadata": {
        "id": "0X0IU3IvcKl9",
        "colab": {
          "base_uri": "https://localhost:8080/"
        },
        "outputId": "48324810-a091-4da5-8c4f-4b13a8a2d7d1"
      },
      "execution_count": null,
      "outputs": [
        {
          "output_type": "stream",
          "name": "stdout",
          "text": [
            "Arijit Singh Songs Download - Free Online Songs @JioSaavn \n",
            "Main Tera Boyfriend \n",
            "List of songs recorded by Arijit Singh - Wikipedia \n",
            "Leke Prabhu Ka Naam \n",
            "Best of Arijit Singh - Full Album - - YouTube \n",
            "Bandeya Re Bandeya \n",
            "Heeriye \n",
            "Galti Se Mistake \n",
            "Dhaagon Se Baandhaa \n",
            "Tera Yaar Hoon Main \n",
            "Desh Mere \n",
            "Oonchi Oonchi Deewarein \n",
            "Lehra Do \n",
            "Neki Ki Raah \n",
            "Lambiyaan Si Judaiyaan \n",
            "Jhoome Jo Pathaan \n",
            "Kesariya \n",
            "Heeriye Slowed + Reverb \n",
            "Apna Bana Le \n",
            "Love Mashup \n",
            "Saware \n",
            "Satranga \n",
            "Top 10 Songs | Jukebox | Arijit Singh Hit Songs 2024 - YouTube \n",
            "O Maahi \n",
            "Woh Din \n",
            "Arijit singh songs collection ❤#music #arijitsingh ... - YouTube \n",
            "Arijit Singh - Spotify \n",
            "Zaalima \n",
            "Arijit Singh (अरिजीत सिंह) \n",
            "Chaleya \n",
            "LONG DRIVE Bollywood Mix - Arijit Singh | Full Album - YouTube \n",
            "Main Dhoondne Ko Zamaane Mein \n",
            "Naina \n",
            "Arijit Singh - YouTube \n",
            "Arijit Singh - Wikipedia \n",
            "Agar Tum Saath Ho \n",
            "Lutt Putt Gaya \n",
            "O Bedardeya \n",
            "What Jhumka ? \n",
            "Hamari Adhuri Kahani \n",
            "Nashe Si Chadh Gayi \n",
            "Best of Arijit Singh - Album by Arijit Singh - Apple Music \n"
          ]
        }
      ]
    },
    {
      "cell_type": "code",
      "source": [
        "print(Formated_data)"
      ],
      "metadata": {
        "colab": {
          "base_uri": "https://localhost:8080/"
        },
        "id": "b-8VU2xXbTXa",
        "outputId": "36b9bd5e-bd38-4a68-eb73-294adb3bcc6c"
      },
      "execution_count": null,
      "outputs": [
        {
          "output_type": "stream",
          "name": "stdout",
          "text": [
            "['Arijit Singh Songs Download - Free Online Songs @JioSaavn', 'Main Tera Boyfriend', 'List of songs recorded by Arijit Singh - Wikipedia', 'Leke Prabhu Ka Naam', 'Best of Arijit Singh - Full Album - - YouTube', 'Bandeya Re Bandeya', 'Heeriye', 'Galti Se Mistake', 'Dhaagon Se Baandhaa', 'Tera Yaar Hoon Main', 'Desh Mere', 'Oonchi Oonchi Deewarein', 'Lehra Do', 'Neki Ki Raah', 'Lambiyaan Si Judaiyaan', 'Jhoome Jo Pathaan', 'Kesariya', 'Heeriye Slowed + Reverb', 'Apna Bana Le', 'Love Mashup', 'Saware', 'Satranga', 'Top 10 Songs | Jukebox | Arijit Singh Hit Songs 2024 - YouTube', 'O Maahi', 'Woh Din', 'Arijit singh songs collection ❤#music #arijitsingh ... - YouTube', 'Arijit Singh - Spotify', 'Zaalima', 'Arijit Singh (अरिजीत सिंह)', 'Chaleya', 'LONG DRIVE Bollywood Mix - Arijit Singh | Full Album - YouTube', 'Main Dhoondne Ko Zamaane Mein', 'Naina', 'Arijit Singh - YouTube', 'Arijit Singh - Wikipedia', 'Agar Tum Saath Ho', 'Lutt Putt Gaya', 'O Bedardeya', 'What Jhumka ?', 'Hamari Adhuri Kahani', 'Nashe Si Chadh Gayi', 'Best of Arijit Singh - Album by Arijit Singh - Apple Music']\n"
          ]
        }
      ]
    },
    {
      "cell_type": "markdown",
      "source": [
        "# Removing Irrelevant Data"
      ],
      "metadata": {
        "id": "mOhVy09-64my"
      }
    },
    {
      "cell_type": "code",
      "source": [
        "# Removing Unnecessary - Data..\n",
        "relevant_data=[j for j in Formated_data if ' - ' not in j]\n",
        "\n",
        "# Ensuring Data Consistency..\n",
        "formated_data=[j.capitalize() for j in relevant_data]\n",
        "\n",
        "# Removing Duplicates..\n",
        "unique_data=list(set(formated_data))\n",
        "\n",
        "for i in unique_data:\n",
        "  print(i,\"\")"
      ],
      "metadata": {
        "colab": {
          "base_uri": "https://localhost:8080/"
        },
        "id": "athIlwrm4laB",
        "outputId": "2d4369cb-cd6e-4709-89f3-9bcd1cd265a4"
      },
      "execution_count": null,
      "outputs": [
        {
          "output_type": "stream",
          "name": "stdout",
          "text": [
            "Woh din \n",
            "Leke prabhu ka naam \n",
            "Heeriye slowed + reverb \n",
            "Lambiyaan si judaiyaan \n",
            "Tera yaar hoon main \n",
            "Heeriye \n",
            "Lehra do \n",
            "What jhumka ? \n",
            "Hamari adhuri kahani \n",
            "Kesariya \n",
            "Main tera boyfriend \n",
            "Galti se mistake \n",
            "O maahi \n",
            "Bandeya re bandeya \n",
            "Saware \n",
            "Satranga \n",
            "Lutt putt gaya \n",
            "Love mashup \n",
            "Zaalima \n",
            "Chaleya \n",
            "Agar tum saath ho \n",
            "Jhoome jo pathaan \n",
            "Naina \n",
            "Apna bana le \n",
            "Desh mere \n",
            "Oonchi oonchi deewarein \n",
            "Dhaagon se baandhaa \n",
            "Nashe si chadh gayi \n",
            "O bedardeya \n",
            "Arijit singh (अरिजीत सिंह) \n",
            "Neki ki raah \n",
            "Main dhoondne ko zamaane mein \n"
          ]
        }
      ]
    }
